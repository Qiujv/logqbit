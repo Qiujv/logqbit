{
 "cells": [
  {
   "cell_type": "code",
   "execution_count": 1,
   "id": "891e7cac",
   "metadata": {},
   "outputs": [
    {
     "name": "stderr",
     "output_type": "stream",
     "text": [
      "c:\\Users\\qiujv\\dev\\logqbit\\.venv\\Lib\\site-packages\\tqdm\\auto.py:21: TqdmWarning: IProgress not found. Please update jupyter and ipywidgets. See https://ipywidgets.readthedocs.io/en/stable/user_install.html\n",
      "  from .autonotebook import tqdm as notebook_tqdm\n"
     ]
    },
    {
     "name": "stdout",
     "output_type": "stream",
     "text": [
      "bench adding rows and flushing...\n",
      "1.16 μs ± 140 ns per loop (mean ± std. dev. of 7 runs, 1,000 loops each)\n",
      "(7000, 3)\n",
      "476 μs ± 49.5 μs per loop (mean ± std. dev. of 7 runs, 100 loops each)\n",
      "220 μs ± 67 μs per loop (mean ± std. dev. of 7 runs, 1,000 loops each)\n",
      "(28700, 3)\n",
      "455 μs ± 37.3 μs per loop (mean ± std. dev. of 7 runs, 100 loops each)\n",
      "bench saving...\n",
      "5.27 ms ± 92.1 μs per loop (mean ± std. dev. of 7 runs, 100 loops each)\n",
      "saved files and size:\n",
      "  data.parquet - 2.4 KB\n",
      "  meta.json - 0.1 KB\n",
      "<class 'pandas.core.frame.DataFrame'>\n",
      "Index: 30800 entries, 0 to 2\n",
      "Data columns (total 3 columns):\n",
      " #   Column  Non-Null Count  Dtype  \n",
      "---  ------  --------------  -----  \n",
      " 0   a       30800 non-null  int64  \n",
      " 1   b       30800 non-null  float64\n",
      " 2   c       30800 non-null  int64  \n",
      "dtypes: float64(1), int64(2)\n",
      "memory usage: 962.5 KB\n"
     ]
    }
   ],
   "source": [
    "import tempfile\n",
    "from logqbit import LogFolder\n",
    "\n",
    "with tempfile.TemporaryDirectory() as tmpdir:\n",
    "    lf = LogFolder.new(tmpdir)\n",
    "\n",
    "    # Simple yet fast flushing.\n",
    "    print('bench adding rows and flushing...')\n",
    "    %timeit -r 7 -n 1000 lf.add_row(a=1, b=2.3, c=4)\n",
    "    print(lf.df.shape)  # flush once.\n",
    "    %timeit -r 7 -n 100 lf.add_row(a=1, b=2.3, c=4); lf.df\n",
    "    %timeit -r 7 -n 1000 lf.add_row(a=4, b=5.6, c=[1,2,3])\n",
    "    print(lf.df.shape)  # flush once.\n",
    "    %timeit -r 7 -n 100 lf.add_row(a=4, b=5.6, c=[1,2,3]); lf.df\n",
    "\n",
    "    # relatively slow saving.\n",
    "    print('bench saving...')\n",
    "    %timeit lf.save()\n",
    "\n",
    "    print(\"saved files and size:\")\n",
    "    for p in lf.path.glob(\"**/*\"):\n",
    "        if p.is_file():\n",
    "            print(f\"  {p.relative_to(lf.path)} - {p.stat().st_size/1024:.1f} KB\")\n",
    "\n",
    "lf.df.info()"
   ]
  }
 ],
 "metadata": {
  "kernelspec": {
   "display_name": "logqbit",
   "language": "python",
   "name": "python3"
  },
  "language_info": {
   "codemirror_mode": {
    "name": "ipython",
    "version": 3
   },
   "file_extension": ".py",
   "mimetype": "text/x-python",
   "name": "python",
   "nbconvert_exporter": "python",
   "pygments_lexer": "ipython3",
   "version": "3.13.5"
  }
 },
 "nbformat": 4,
 "nbformat_minor": 5
}
