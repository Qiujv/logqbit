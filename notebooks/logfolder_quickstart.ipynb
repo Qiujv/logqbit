{
 "cells": [
  {
   "cell_type": "code",
   "execution_count": 1,
   "id": "cdd520a7-893d-4631-8eb4-ca6a6a7e4b85",
   "metadata": {},
   "outputs": [
    {
     "name": "stderr",
     "output_type": "stream",
     "text": [
      "c:\\Users\\qiujv\\dev\\logqbit\\.venv\\Lib\\site-packages\\tqdm\\auto.py:21: TqdmWarning: IProgress not found. Please update jupyter and ipywidgets. See https://ipywidgets.readthedocs.io/en/stable/user_install.html\n",
      "  from .autonotebook import tqdm as notebook_tqdm\n"
     ]
    },
    {
     "data": {
      "text/html": [
       "<div>\n",
       "<style scoped>\n",
       "    .dataframe tbody tr th:only-of-type {\n",
       "        vertical-align: middle;\n",
       "    }\n",
       "\n",
       "    .dataframe tbody tr th {\n",
       "        vertical-align: top;\n",
       "    }\n",
       "\n",
       "    .dataframe thead th {\n",
       "        text-align: right;\n",
       "    }\n",
       "</style>\n",
       "<table border=\"1\" class=\"dataframe\">\n",
       "  <thead>\n",
       "    <tr style=\"text-align: right;\">\n",
       "      <th></th>\n",
       "      <th>x</th>\n",
       "      <th>y</th>\n",
       "    </tr>\n",
       "  </thead>\n",
       "  <tbody>\n",
       "    <tr>\n",
       "      <th>0</th>\n",
       "      <td>1.5</td>\n",
       "      <td>2.0</td>\n",
       "    </tr>\n",
       "    <tr>\n",
       "      <th>0</th>\n",
       "      <td>233.0</td>\n",
       "      <td>1.0</td>\n",
       "    </tr>\n",
       "    <tr>\n",
       "      <th>1</th>\n",
       "      <td>233.0</td>\n",
       "      <td>3.0</td>\n",
       "    </tr>\n",
       "    <tr>\n",
       "      <th>2</th>\n",
       "      <td>233.0</td>\n",
       "      <td>5.0</td>\n",
       "    </tr>\n",
       "  </tbody>\n",
       "</table>\n",
       "</div>"
      ],
      "text/plain": [
       "       x    y\n",
       "0    1.5  2.0\n",
       "0  233.0  1.0\n",
       "1  233.0  3.0\n",
       "2  233.0  5.0"
      ]
     },
     "execution_count": 1,
     "metadata": {},
     "output_type": "execute_result"
    }
   ],
   "source": [
    "from pathlib import Path\n",
    "\n",
    "from logqbit.logfolder import LogFolder\n",
    "\n",
    "project_folder = Path('test')\n",
    "project_folder.mkdir(exist_ok=True)\n",
    "\n",
    "lf = LogFolder.new(project_folder)\n",
    "lf.add_row(x=1.5, y=2.0)\n",
    "lf.add_row(x=233, y=[1,3,5])\n",
    "lf.df"
   ]
  },
  {
   "cell_type": "code",
   "execution_count": 2,
   "metadata": {},
   "outputs": [
    {
     "name": "stdout",
     "output_type": "stream",
     "text": [
      "456 ns ± 29.9 ns per loop (mean ± std. dev. of 7 runs, 1,000 loops each)\n",
      "44.1 μs ± 3.77 μs per loop (mean ± std. dev. of 7 runs, 1,000 loops each)\n"
     ]
    },
    {
     "data": {
      "text/plain": [
       "(28004, 2)"
      ]
     },
     "execution_count": 2,
     "metadata": {},
     "output_type": "execute_result"
    }
   ],
   "source": [
    "%timeit -r 7 -n 1000 lf.add_row(x=1.5, y=2.0)\n",
    "%timeit -r 7 -n 1000 lf.add_row(x=233, y=[1,3,5])\n",
    "lf.df.shape"
   ]
  },
  {
   "cell_type": "code",
   "execution_count": 3,
   "id": "8b32c900-91d0-4b94-b571-458eb5f66fc7",
   "metadata": {},
   "outputs": [
    {
     "name": "stdout",
     "output_type": "stream",
     "text": [
      "test\\0\n",
      "test\\0\\data.parquet, 1.9 KB\n",
      "test\\0\\meta.yaml, 0.1 KB\n"
     ]
    }
   ],
   "source": [
    "for p in project_folder.iterdir():\n",
    "    print(p)\n",
    "\n",
    "lf.flush()\n",
    "for p in lf.path.iterdir():\n",
    "    if p.is_file():\n",
    "        print(f\"{p}, {p.stat().st_size/1024:.1f} KB\")\n",
    "    else:\n",
    "        print(f\"{p}, dir\")"
   ]
  },
  {
   "cell_type": "code",
   "execution_count": 4,
   "id": "5e955c8a-82fa-43df-8e7c-fa0cc6af3755",
   "metadata": {},
   "outputs": [],
   "source": [
    "import shutil\n",
    "\n",
    "shutil.rmtree(project_folder)"
   ]
  }
 ],
 "metadata": {
  "kernelspec": {
   "display_name": "logqbit",
   "language": "python",
   "name": "python3"
  },
  "language_info": {
   "codemirror_mode": {
    "name": "ipython",
    "version": 3
   },
   "file_extension": ".py",
   "mimetype": "text/x-python",
   "name": "python",
   "nbconvert_exporter": "python",
   "pygments_lexer": "ipython3",
   "version": "3.13.5"
  }
 },
 "nbformat": 4,
 "nbformat_minor": 2
}
